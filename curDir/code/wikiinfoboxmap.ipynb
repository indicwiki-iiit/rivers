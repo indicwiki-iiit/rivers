{
 "cells": [
  {
   "cell_type": "code",
   "execution_count": 1,
   "id": "6fe11699",
   "metadata": {},
   "outputs": [],
   "source": [
    "import pandas as pd\n",
    "import numpy as np\n",
    "import json\n",
    "import ssl\n",
    "from urllib.request import urlopen\n",
    "import certifi\n",
    "ssl._create_default_https_context = ssl._create_unverified_context\n",
    "# from SPARQLWrapper import SPARQLWrapper,JSON,N3\n",
    "import urllib.request\n",
    "import pandas as pd\n",
    "from unicodedata import normalize\n",
    "import requests\n",
    "import bs4\n",
    "from csv import writer\n",
    "from time import sleep\n",
    "import csv\n",
    "\n"
   ]
  },
  {
   "cell_type": "code",
   "execution_count": 2,
   "id": "ba0b3109",
   "metadata": {},
   "outputs": [],
   "source": [
    "def image_scrape(url):\n",
    "    try:\n",
    "        r = requests.get(url)\n",
    "        soup = bs4.BeautifulSoup(r.content,features=\"lxml\")\n",
    "        #covers = soup.select('table.infobox td.infobox-image a.image img[src]')\n",
    "        infomap = soup.select('table.infobox td.infobox-image div.center div.locmap a.image img[src]')\n",
    "        \"\"\"\n",
    "        for cover in covers:\n",
    "            #print(cover['src'])\n",
    "            return(cover['src'])\n",
    "        \"\"\"\n",
    "        for imap in infomap:\n",
    "            #print(imap['src'])\n",
    "            return(imap['src'])\n",
    "        \n",
    "    except:\n",
    "        return 'None'\n",
    "\n",
    "#print(image_scrape(url_list[12254]))\n",
    "#a = url_list[12254]\n",
    "#print(a)\n",
    "#print(image_scrape(a))"
   ]
  },
  {
   "cell_type": "code",
   "execution_count": 3,
   "id": "a3039683",
   "metadata": {},
   "outputs": [],
   "source": [
    "df = pd.DataFrame()\n",
    "blah = pd.read_excel('WIKIriverlinks.xlsx')\n",
    "url_list = list(blah['Column1'].to_numpy())\n",
    "df['Wikipedia Link'] = url_list[0:4000]\n",
    "shan = []\n",
    "\n",
    "# print(url_list)\n",
    "for a in url_list[0:4000]:\n",
    "    # URL = \"https://en.wikipedia.org/wiki/Anadyr_(river)\"\n",
    "    if '\\n' in a:\n",
    "        a = a[:-1]\n",
    "    URL = a\n",
    "    # print(URL, image_scrape(URL))\n",
    "    # print()\n",
    "    d = [{URL:image_scrape(URL)}]\n",
    "    #print(d)\n",
    "    # new_df = pd.DataFrame([d])\n",
    "    \n",
    "    shan.append(image_scrape(URL))\n",
    "# print(shan)\n",
    "\"\"\"\n",
    "df['images'][12000:14000] = shan\n",
    "df\n",
    "\"\"\"\n",
    "df['images'] = \"None\"\n",
    "df['images'] = shan\n",
    "df.to_csv('infoboxmap4000.csv', index=False)"
   ]
  },
  {
   "cell_type": "code",
   "execution_count": null,
   "id": "54248b86",
   "metadata": {},
   "outputs": [],
   "source": [
    "shan"
   ]
  },
  {
   "cell_type": "code",
   "execution_count": null,
   "id": "f2a78f2e",
   "metadata": {},
   "outputs": [],
   "source": [
    "d"
   ]
  },
  {
   "cell_type": "code",
   "execution_count": null,
   "id": "75a4ce17",
   "metadata": {},
   "outputs": [],
   "source": [
    "shan"
   ]
  },
  {
   "cell_type": "code",
   "execution_count": null,
   "id": "9df7e290",
   "metadata": {},
   "outputs": [],
   "source": [
    "df['images'] = \"None\""
   ]
  },
  {
   "cell_type": "code",
   "execution_count": null,
   "id": "577aa0bd",
   "metadata": {},
   "outputs": [],
   "source": [
    "df['images'] = shan"
   ]
  },
  {
   "cell_type": "code",
   "execution_count": null,
   "id": "a2a53da6",
   "metadata": {},
   "outputs": [],
   "source": [
    "shan"
   ]
  },
  {
   "cell_type": "code",
   "execution_count": null,
   "id": "5bad7594",
   "metadata": {},
   "outputs": [],
   "source": [
    "#df[\"images\"][0:10] = \"c\""
   ]
  },
  {
   "cell_type": "code",
   "execution_count": null,
   "id": "5ea29705",
   "metadata": {},
   "outputs": [],
   "source": [
    "print(df['images'])"
   ]
  },
  {
   "cell_type": "code",
   "execution_count": null,
   "id": "3304a9bc",
   "metadata": {},
   "outputs": [],
   "source": [
    "df.to_csv('infoboxImagesk.csv', index=False)"
   ]
  },
  {
   "cell_type": "code",
   "execution_count": null,
   "id": "e10f3c74",
   "metadata": {},
   "outputs": [],
   "source": []
  }
 ],
 "metadata": {
  "kernelspec": {
   "display_name": "Python 3",
   "language": "python",
   "name": "python3"
  },
  "language_info": {
   "codemirror_mode": {
    "name": "ipython",
    "version": 3
   },
   "file_extension": ".py",
   "mimetype": "text/x-python",
   "name": "python",
   "nbconvert_exporter": "python",
   "pygments_lexer": "ipython3",
   "version": "3.8.8"
  }
 },
 "nbformat": 4,
 "nbformat_minor": 5
}
