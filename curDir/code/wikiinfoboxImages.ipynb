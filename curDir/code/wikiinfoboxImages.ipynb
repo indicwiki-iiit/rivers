{
 "cells": [
  {
   "cell_type": "code",
   "execution_count": 2,
   "id": "6fe11699",
   "metadata": {},
   "outputs": [],
   "source": [
    "import pandas as pd\n",
    "import numpy as np\n",
    "import json\n",
    "import ssl\n",
    "from urllib.request import urlopen\n",
    "import certifi\n",
    "ssl._create_default_https_context = ssl._create_unverified_context\n",
    "# from SPARQLWrapper import SPARQLWrapper,JSON,N3\n",
    "import urllib.request\n",
    "import pandas as pd\n",
    "from unicodedata import normalize\n",
    "import requests\n",
    "import bs4\n",
    "from csv import writer\n",
    "from time import sleep\n",
    "import csv\n",
    "\n"
   ]
  },
  {
   "cell_type": "code",
   "execution_count": 32,
   "id": "ba0b3109",
   "metadata": {},
   "outputs": [],
   "source": [
    "def image_scrape(url):\n",
    "    try:\n",
    "        r = requests.get(url)\n",
    "        soup = bs4.BeautifulSoup(r.content,features=\"lxml\")\n",
    "        covers = soup.select('table.infobox td.infobox-image a.image img[src]')\n",
    "        #infomap = soup.select('table.infobox td.infobox-image div.locmap img[src]')\n",
    "        for cover in covers:\n",
    "            #print(cover['src'])\n",
    "            return(cover['src'])\n",
    "    except:\n",
    "        return 'None'\n",
    "\n"
   ]
  },
  {
   "cell_type": "code",
   "execution_count": 33,
   "id": "a3039683",
   "metadata": {},
   "outputs": [
    {
     "name": "stdout",
     "output_type": "stream",
     "text": [
      "//upload.wikimedia.org/wikipedia/commons/thumb/6/6e/Gitchi_Gami_State_Trail_at_Split_Rock_River.jpg/250px-Gitchi_Gami_State_Trail_at_Split_Rock_River.jpg\n",
      "//upload.wikimedia.org/wikipedia/commons/thumb/0/0e/USA_Minnesota_relief_location_map.svg/240px-USA_Minnesota_relief_location_map.svg.png\n",
      "//upload.wikimedia.org/wikipedia/commons/thumb/0/0e/USA_Minnesota_relief_location_map.svg/240px-USA_Minnesota_relief_location_map.svg.png\n",
      "//upload.wikimedia.org/wikipedia/commons/thumb/0/0c/Red_pog.svg/8px-Red_pog.svg.png\n",
      "//upload.wikimedia.org/wikipedia/commons/thumb/6/6e/Gitchi_Gami_State_Trail_at_Split_Rock_River.jpg/250px-Gitchi_Gami_State_Trail_at_Split_Rock_River.jpg\n",
      "//upload.wikimedia.org/wikipedia/commons/thumb/0/0e/USA_Minnesota_relief_location_map.svg/240px-USA_Minnesota_relief_location_map.svg.png\n",
      "//upload.wikimedia.org/wikipedia/commons/thumb/0/0e/USA_Minnesota_relief_location_map.svg/240px-USA_Minnesota_relief_location_map.svg.png\n",
      "//upload.wikimedia.org/wikipedia/commons/thumb/0/0c/Red_pog.svg/8px-Red_pog.svg.png\n",
      "//upload.wikimedia.org/wikipedia/commons/thumb/0/0e/USA_Minnesota_relief_location_map.svg/240px-USA_Minnesota_relief_location_map.svg.png\n",
      "//upload.wikimedia.org/wikipedia/commons/thumb/0/0e/USA_Minnesota_relief_location_map.svg/240px-USA_Minnesota_relief_location_map.svg.png\n",
      "//upload.wikimedia.org/wikipedia/commons/thumb/0/0c/Red_pog.svg/8px-Red_pog.svg.png\n",
      "//upload.wikimedia.org/wikipedia/commons/thumb/0/0e/USA_Minnesota_relief_location_map.svg/240px-USA_Minnesota_relief_location_map.svg.png\n",
      "//upload.wikimedia.org/wikipedia/commons/thumb/0/0e/USA_Minnesota_relief_location_map.svg/240px-USA_Minnesota_relief_location_map.svg.png\n",
      "//upload.wikimedia.org/wikipedia/commons/thumb/0/0c/Red_pog.svg/8px-Red_pog.svg.png\n",
      "//upload.wikimedia.org/wikipedia/commons/thumb/6/64/Sturgeon_River_of_St_Louis_County_MN.JPG/250px-Sturgeon_River_of_St_Louis_County_MN.JPG\n",
      "//upload.wikimedia.org/wikipedia/commons/thumb/6/64/Sturgeon_River_of_St_Louis_County_MN.JPG/250px-Sturgeon_River_of_St_Louis_County_MN.JPG\n"
     ]
    },
    {
     "data": {
      "text/plain": [
       "\"\\ndf['images'][12000:14000] = shan\\ndf\\n\""
      ]
     },
     "execution_count": 33,
     "metadata": {},
     "output_type": "execute_result"
    }
   ],
   "source": [
    "df = pd.DataFrame()\n",
    "blah = pd.read_excel('WIKIriverlinks.xlsx')\n",
    "url_list = list(blah['Column1'].to_numpy())\n",
    "df['Wikipedia Link'] = url_list[12250:12260]\n",
    "shan = []\n",
    "\n",
    "# print(url_list)\n",
    "for a in url_list[12250:12260]:\n",
    "    # URL = \"https://en.wikipedia.org/wiki/Anadyr_(river)\"\n",
    "    if '\\n' in a:\n",
    "        a = a[:-1]\n",
    "    URL = a\n",
    "    # print(URL, image_scrape(URL))\n",
    "    # print()\n",
    "    d = [{URL:image_scrape(URL)}]\n",
    "    #print(d)\n",
    "    # new_df = pd.DataFrame([d])\n",
    "    \n",
    "    shan.append(image_scrape(URL))\n",
    "# print(shan)\n",
    "\"\"\"\n",
    "df['images'][12000:14000] = shan\n",
    "df\n",
    "\"\"\""
   ]
  },
  {
   "cell_type": "code",
   "execution_count": 24,
   "id": "f2a78f2e",
   "metadata": {},
   "outputs": [
    {
     "data": {
      "text/plain": [
       "[{'https://en.wikipedia.org/wiki/Sturgeon_River_(Little_Fork_River_tributary)': '//upload.wikimedia.org/wikipedia/commons/thumb/6/64/Sturgeon_River_of_St_Louis_County_MN.JPG/250px-Sturgeon_River_of_St_Louis_County_MN.JPG'}]"
      ]
     },
     "execution_count": 24,
     "metadata": {},
     "output_type": "execute_result"
    }
   ],
   "source": [
    "d"
   ]
  },
  {
   "cell_type": "code",
   "execution_count": 23,
   "id": "75a4ce17",
   "metadata": {},
   "outputs": [
    {
     "data": {
      "text/plain": [
       "[None,\n",
       " None,\n",
       " None,\n",
       " None,\n",
       " '//upload.wikimedia.org/wikipedia/commons/thumb/6/6e/Gitchi_Gami_State_Trail_at_Split_Rock_River.jpg/250px-Gitchi_Gami_State_Trail_at_Split_Rock_River.jpg',\n",
       " None,\n",
       " None,\n",
       " '//upload.wikimedia.org/wikipedia/commons/thumb/0/0e/USA_Minnesota_relief_location_map.svg/240px-USA_Minnesota_relief_location_map.svg.png',\n",
       " None,\n",
       " '//upload.wikimedia.org/wikipedia/commons/thumb/6/64/Sturgeon_River_of_St_Louis_County_MN.JPG/250px-Sturgeon_River_of_St_Louis_County_MN.JPG']"
      ]
     },
     "execution_count": 23,
     "metadata": {},
     "output_type": "execute_result"
    }
   ],
   "source": [
    "shan"
   ]
  },
  {
   "cell_type": "code",
   "execution_count": 14,
   "id": "9df7e290",
   "metadata": {},
   "outputs": [],
   "source": [
    "df['images'] = \"None\""
   ]
  },
  {
   "cell_type": "code",
   "execution_count": 20,
   "id": "577aa0bd",
   "metadata": {},
   "outputs": [],
   "source": [
    "df['images'] = shan"
   ]
  },
  {
   "cell_type": "code",
   "execution_count": 21,
   "id": "a2a53da6",
   "metadata": {},
   "outputs": [
    {
     "data": {
      "text/plain": [
       "[None,\n",
       " None,\n",
       " None,\n",
       " None,\n",
       " '//upload.wikimedia.org/wikipedia/commons/thumb/6/6e/Gitchi_Gami_State_Trail_at_Split_Rock_River.jpg/250px-Gitchi_Gami_State_Trail_at_Split_Rock_River.jpg',\n",
       " None,\n",
       " None,\n",
       " '//upload.wikimedia.org/wikipedia/commons/thumb/0/0e/USA_Minnesota_relief_location_map.svg/240px-USA_Minnesota_relief_location_map.svg.png',\n",
       " None,\n",
       " '//upload.wikimedia.org/wikipedia/commons/thumb/6/64/Sturgeon_River_of_St_Louis_County_MN.JPG/250px-Sturgeon_River_of_St_Louis_County_MN.JPG']"
      ]
     },
     "execution_count": 21,
     "metadata": {},
     "output_type": "execute_result"
    }
   ],
   "source": [
    "shan"
   ]
  },
  {
   "cell_type": "code",
   "execution_count": 18,
   "id": "5bad7594",
   "metadata": {},
   "outputs": [],
   "source": [
    "#df[\"images\"][0:10] = \"c\""
   ]
  },
  {
   "cell_type": "code",
   "execution_count": 17,
   "id": "5ea29705",
   "metadata": {},
   "outputs": [
    {
     "name": "stdout",
     "output_type": "stream",
     "text": [
      "Series([], Name: images, dtype: object)\n"
     ]
    }
   ],
   "source": [
    "print(df['images'][16000:16200])"
   ]
  },
  {
   "cell_type": "code",
   "execution_count": 11,
   "id": "3304a9bc",
   "metadata": {},
   "outputs": [],
   "source": [
    "df.to_csv('infoboxImagesk.csv', index=False)"
   ]
  },
  {
   "cell_type": "code",
   "execution_count": null,
   "id": "e10f3c74",
   "metadata": {},
   "outputs": [],
   "source": []
  }
 ],
 "metadata": {
  "kernelspec": {
   "display_name": "Python 3",
   "language": "python",
   "name": "python3"
  },
  "language_info": {
   "codemirror_mode": {
    "name": "ipython",
    "version": 3
   },
   "file_extension": ".py",
   "mimetype": "text/x-python",
   "name": "python",
   "nbconvert_exporter": "python",
   "pygments_lexer": "ipython3",
   "version": "3.8.8"
  }
 },
 "nbformat": 4,
 "nbformat_minor": 5
}
